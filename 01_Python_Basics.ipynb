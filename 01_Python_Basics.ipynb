{
 "cells": [
  {
   "cell_type": "markdown",
   "metadata": {},
   "source": [
    "# Intro to Python3 - Class01"
   ]
  },
  {
   "cell_type": "markdown",
   "metadata": {},
   "source": [
    "### Class agenda:\n",
    "##### 1. Assign values to variables and simple arithmetics\n",
    "##### 2. `Print` and simple string manimulation\n",
    "##### 3. Value comparison and conditions using `if-elif-else`"
   ]
  },
  {
   "cell_type": "markdown",
   "metadata": {},
   "source": [
    "Let's get started!\n",
    "\n",
    "### 1. Assiging values to variabls and simple arithmetics\n",
    "Python follows the syntax of `[VARIABLE NAME] = [VARIABLE OR VALUE]`. You can view variable as a label for the object you are dealing with. \n",
    "\n",
    "Unlike some other languages (e.g. Java), Python does not require declaring variable type as it will be inferred. \n",
    "\n",
    "Take the following for example:"
   ]
  },
  {
   "cell_type": "code",
   "execution_count": 4,
   "metadata": {},
   "outputs": [],
   "source": [
    "i = 5\n",
    "float_number = 55.5\n",
    "hello = \"hello\"\n",
    "world = 'world'\n",
    "true = True\n",
    "not_true = False\n",
    "five_sq = 5*i\n",
    "# the following example os assing variable to variable\n",
    "i_float = float_number*i"
   ]
  },
  {
   "cell_type": "markdown",
   "metadata": {},
   "source": [
    "#### Notes from above examples:\n",
    "  * A pond(#) sign used as comments sign in Python\n",
    "  \n",
    "  * Major python variable types are numerical(integer and float), string and boolean\n",
    "  \n",
    "  * Both single and double quotation can be used to define string, the difference will be discussed later\n",
    "  \n",
    "  * A boolean variable is either `True` or `False`. It is veru useful in chainning program logic\n",
    "  * python is case sensitive`\n",
    "  \n",
    "  * A variable can be defined by arithmetic calculation results\n",
    "  \n",
    "  * A variable can be defined by a variable defined before\n",
    "\n",
    "You can explore the type of variables by using `type()` function. Note here we have a few different types of variables. "
   ]
  },
  {
   "cell_type": "code",
   "execution_count": 5,
   "metadata": {},
   "outputs": [
    {
     "data": {
      "text/plain": [
       "int"
      ]
     },
     "execution_count": 5,
     "metadata": {},
     "output_type": "execute_result"
    }
   ],
   "source": [
    "type(i)"
   ]
  },
  {
   "cell_type": "code",
   "execution_count": 6,
   "metadata": {},
   "outputs": [
    {
     "data": {
      "text/plain": [
       "float"
      ]
     },
     "execution_count": 6,
     "metadata": {},
     "output_type": "execute_result"
    }
   ],
   "source": [
    "type(float_number)"
   ]
  },
  {
   "cell_type": "code",
   "execution_count": 7,
   "metadata": {},
   "outputs": [
    {
     "data": {
      "text/plain": [
       "bool"
      ]
     },
     "execution_count": 7,
     "metadata": {},
     "output_type": "execute_result"
    }
   ],
   "source": [
    "type(true)"
   ]
  },
  {
   "cell_type": "code",
   "execution_count": 8,
   "metadata": {},
   "outputs": [
    {
     "data": {
      "text/plain": [
       "float"
      ]
     },
     "execution_count": 8,
     "metadata": {},
     "output_type": "execute_result"
    }
   ],
   "source": [
    "type(i_float)"
   ]
  },
  {
   "cell_type": "code",
   "execution_count": 9,
   "metadata": {},
   "outputs": [
    {
     "data": {
      "text/plain": [
       "str"
      ]
     },
     "execution_count": 9,
     "metadata": {},
     "output_type": "execute_result"
    }
   ],
   "source": [
    "type(hello+world)"
   ]
  },
  {
   "cell_type": "markdown",
   "metadata": {},
   "source": [
    "Also you can probalby already infer from the above: the type of result depends on the types of operands (`+, -, *, /, //, %, **` and others). If all inputs are `int` we would usually expect output of type `int` (except for division `/` which will give float), the same follows for `float`. When you have mixed types, the output usually is the same type as the one with more precision, hence `complex` > `float` > `int`. That's what you're seeing in `i_float`. To read more about operators, [this](https://www.tutorialspoint.com/python/python_basic_operators.htm) is a good resource.\n",
    "\n",
    "To better understand what a variable and how it is a label for underlying object, look at some of the examples."
   ]
  },
  {
   "cell_type": "code",
   "execution_count": 10,
   "metadata": {},
   "outputs": [],
   "source": [
    "one = ONE = 1\n",
    "one = ONE + 1"
   ]
  },
  {
   "cell_type": "code",
   "execution_count": 11,
   "metadata": {},
   "outputs": [
    {
     "data": {
      "text/plain": [
       "(2, 1)"
      ]
     },
     "execution_count": 11,
     "metadata": {},
     "output_type": "execute_result"
    }
   ],
   "source": [
    "one, ONE"
   ]
  },
  {
   "cell_type": "markdown",
   "metadata": {},
   "source": [
    "#### Exercise 1:\n",
    "1. Calculate the circumference and area of a circle with specified radius. Reminder: `c=2pi*r , a=pi*r^2`\n",
    "\n",
    "If you'd like to use a proper Pi instead of `3.14`, you can use the following code to import `math` module. You can explore [python's documentation for `math` module](https://docs.python.org/3/library/math.html) to learn more about what's available. "
   ]
  },
  {
   "cell_type": "code",
   "execution_count": 12,
   "metadata": {},
   "outputs": [
    {
     "data": {
      "text/plain": [
       "3.141592653589793"
      ]
     },
     "execution_count": 12,
     "metadata": {},
     "output_type": "execute_result"
    }
   ],
   "source": [
    "import math\n",
    "math.pi"
   ]
  },
  {
   "cell_type": "code",
   "execution_count": 42,
   "metadata": {},
   "outputs": [
    {
     "name": "stdout",
     "output_type": "stream",
     "text": [
      "12.566370614359172 12.566370614359172\n"
     ]
    }
   ],
   "source": [
    "radius =  2\n",
    "\n",
    "# code up your solution using calculation and value assignment\n",
    "circumference = 2*math.pi*radius\n",
    "area = math.pi*radius*radius\n",
    "print(circumference, area)"
   ]
  },
  {
   "cell_type": "markdown",
   "metadata": {},
   "source": [
    "2. Define a variable `a` with value 3, variable `b` with value 7, what's the value of `a/b`, `a//b`, and `a%b`? What's the ceiling and floor of `a/b`? (Hint: use `math.ceil` and `math.floor`)"
   ]
  },
  {
   "cell_type": "code",
   "execution_count": 45,
   "metadata": {},
   "outputs": [
    {
     "name": "stdout",
     "output_type": "stream",
     "text": [
      "0.42857142857142855 0 3\n",
      "1\n"
     ]
    }
   ],
   "source": [
    "# code up your solution here\n",
    "a=3\n",
    "b=7\n",
    "print(a/b, a//b, a%b)\n",
    "print(math.ceil(a/b))"
   ]
  },
  {
   "cell_type": "markdown",
   "metadata": {},
   "source": [
    "### 2. `Print` and simple string manipulations\n",
    "\n",
    "#### 2.1 Printing\n",
    "A critial skill for any programmer is to print information to the screen, which is super helpful to\n",
    "* Provide scripts running process update and logs (scripts diagnotic information)\n",
    "* Report results\n",
    "* find and fix bugs\n",
    "\n",
    "Note: in python2 you will see `print \"something\"` without the parentheses, it's python2 syntax for print statement (instead of a `print()` function in python3). If you'll need to fix some of the python2 code to make it work in python3 you can refer to [this official doc](https://docs.python.org/2/library/2to3.html).\n",
    "\n",
    "Let's begin with our python learning through \"Hello World\""
   ]
  },
  {
   "cell_type": "code",
   "execution_count": 18,
   "metadata": {},
   "outputs": [
    {
     "name": "stdout",
     "output_type": "stream",
     "text": [
      "HELLO World!\n"
     ]
    }
   ],
   "source": [
    "print(\"HELLO World!\")"
   ]
  },
  {
   "cell_type": "code",
   "execution_count": 19,
   "metadata": {},
   "outputs": [
    {
     "name": "stdout",
     "output_type": "stream",
     "text": [
      "hello world !\n"
     ]
    }
   ],
   "source": [
    "print(hello + ' ' + world + ' !')"
   ]
  },
  {
   "cell_type": "markdown",
   "metadata": {},
   "source": [
    "Note the difference between the two: printing strings v.s. printing string from variables.\n",
    "\n",
    "You can use some operators on strings like `+` and `*`"
   ]
  },
  {
   "cell_type": "code",
   "execution_count": 20,
   "metadata": {},
   "outputs": [
    {
     "name": "stdout",
     "output_type": "stream",
     "text": [
      "Welcome to Machine Learning Course\n",
      "\n",
      "\n",
      "\n",
      "\n",
      "\n",
      "\n",
      "\n",
      "\n",
      "\n",
      "\n",
      "Welcome to Machine Learning Course\n",
      "Welcome to Machine Learning Course\n",
      "Welcome to Machine Learning Course\n",
      "\n"
     ]
    }
   ],
   "source": [
    "print (\"Welcome to Machine Learning Course\\n\") # \"/n\" is the wildcard for next line\n",
    "print (8 * \"\\n\")                               # 8*\"/n\" next 8 lines\n",
    "print (\"Welcome to Machine Learning Course\\n\" * 3)"
   ]
  },
  {
   "cell_type": "markdown",
   "metadata": {},
   "source": [
    "You can use `end` argument to specify ending of string printing."
   ]
  },
  {
   "cell_type": "code",
   "execution_count": 46,
   "metadata": {},
   "outputs": [
    {
     "name": "stdout",
     "output_type": "stream",
     "text": [
      "Welcome to     Machine Learning Course!"
     ]
    }
   ],
   "source": [
    "print (\"Welcome to\", end = ' '*5) \n",
    "print (\"Machine Learning Course\", end = '!')"
   ]
  },
  {
   "cell_type": "markdown",
   "metadata": {},
   "source": [
    "`r\"\\n\"` is different from `\\n` as `r\"\"` specifies a raw string. Explore the following to see the difference."
   ]
  },
  {
   "cell_type": "code",
   "execution_count": 47,
   "metadata": {},
   "outputs": [
    {
     "name": "stdout",
     "output_type": "stream",
     "text": [
      "\\n\n"
     ]
    }
   ],
   "source": [
    "print(r\"\\n\")"
   ]
  },
  {
   "cell_type": "code",
   "execution_count": 48,
   "metadata": {},
   "outputs": [
    {
     "name": "stdout",
     "output_type": "stream",
     "text": [
      "\n",
      "\n"
     ]
    }
   ],
   "source": [
    "print(\"\\n\")"
   ]
  },
  {
   "cell_type": "markdown",
   "metadata": {},
   "source": [
    "The `\\n` here is one of [*string literals*](https://docs.python.org/3/reference/lexical_analysis.html#literals) which means a new line. Other commonly used literals include `\\t` for tab, and `\\'` `\\\"` for single and double quotes. These are special characters and need a backslash `\\` to escape characters that otherwise have other meanings.\n",
    "\n",
    "Triple quotations define a multi-line string. These are helpful for long strings spaning across lines, and are often used in doc strings."
   ]
  },
  {
   "cell_type": "code",
   "execution_count": 49,
   "metadata": {},
   "outputs": [
    {
     "name": "stdout",
     "output_type": "stream",
     "text": [
      "here is\n",
      "a multi-line\n",
      "string\n"
     ]
    }
   ],
   "source": [
    "print('''here is\n",
    "a multi-line\n",
    "string''')"
   ]
  },
  {
   "cell_type": "code",
   "execution_count": 50,
   "metadata": {},
   "outputs": [
    {
     "name": "stdout",
     "output_type": "stream",
     "text": [
      "here is\n",
      "the same multi-line\n",
      "string\n"
     ]
    }
   ],
   "source": [
    "print(\"\"\"here is\n",
    "the same multi-line\n",
    "string\"\"\")"
   ]
  },
  {
   "cell_type": "markdown",
   "metadata": {},
   "source": [
    "#### 2.2 Formatted string\n",
    "Formatted printing can be useful when you want to print out results or reports. The following example formats the float to 3 digits after decimal points by `{:.3f}`. The next example shows different formatting on same number. Most commonly used type codes includes:\n",
    "* `f` ~ float\n",
    "* `d` ~ integer\n",
    "* `s` ~ string"
   ]
  },
  {
   "cell_type": "code",
   "execution_count": 51,
   "metadata": {},
   "outputs": [
    {
     "name": "stdout",
     "output_type": "stream",
     "text": [
      "2.718281828459045\n"
     ]
    }
   ],
   "source": [
    "print(math.e)"
   ]
  },
  {
   "cell_type": "code",
   "execution_count": 52,
   "metadata": {},
   "outputs": [
    {
     "name": "stdout",
     "output_type": "stream",
     "text": [
      "e is approximately 2.718\n"
     ]
    }
   ],
   "source": [
    "print(\"e is approximately {:.3f}\".format(math.e))"
   ]
  },
  {
   "cell_type": "code",
   "execution_count": 53,
   "metadata": {},
   "outputs": [
    {
     "name": "stdout",
     "output_type": "stream",
     "text": [
      "here is e again with more precision 2.71828183\n"
     ]
    }
   ],
   "source": [
    "print(\"here is e again with more precision {:3.8f}\".format(math.e))"
   ]
  },
  {
   "cell_type": "code",
   "execution_count": 54,
   "metadata": {},
   "outputs": [
    {
     "name": "stdout",
     "output_type": "stream",
     "text": [
      "int: 12345;  bin: 11000000111001;  number: 12345;  float1: 12345.000;  float2: 0123.456780 \n"
     ]
    }
   ],
   "source": [
    "print(\"int: {0:d};  bin: {0:b};  number: {0:n};  float1: {0:.3f};  float2: {1:011.6f} \".format(12345, 123.45678))"
   ]
  },
  {
   "cell_type": "markdown",
   "metadata": {},
   "source": [
    "Explore [formatted string](https://docs.python.org/3/library/string.html#format-string-syntax) if you are not familiar with it before completing the next exercise."
   ]
  },
  {
   "cell_type": "markdown",
   "metadata": {},
   "source": [
    "#### 2.3 String slicing\n",
    "Python treats a string as a sequence of characters, so we can index individual characters like the following:"
   ]
  },
  {
   "cell_type": "code",
   "execution_count": 55,
   "metadata": {},
   "outputs": [
    {
     "name": "stdout",
     "output_type": "stream",
     "text": [
      "D\n",
      "e\n"
     ]
    }
   ],
   "source": [
    "topic = \"Data Science\"\n",
    "print(topic[0])\n",
    "print(topic[-1])"
   ]
  },
  {
   "cell_type": "markdown",
   "metadata": {},
   "source": [
    "We can also do the following with indexing:"
   ]
  },
  {
   "cell_type": "code",
   "execution_count": 33,
   "metadata": {},
   "outputs": [
    {
     "name": "stdout",
     "output_type": "stream",
     "text": [
      "Data\n",
      "Science\n",
      "ecneicS ataD\n"
     ]
    }
   ],
   "source": [
    "print(topic[:4])\n",
    "print(topic[-7:])\n",
    "print(topic[::-1])"
   ]
  },
  {
   "cell_type": "markdown",
   "metadata": {},
   "source": [
    "Idea of index is very import, not only for string, but other data type we'll mention later. Python index starts with `0` as most of other languages do.\n",
    "```\n",
    " D  a  t  a     S  c  i  e  n  c  e         String\n",
    " 1  2  3  4  5  6  7  8  9 10 11 12         Index\n",
    "-12-11-10 -9 -8 -7-6 -5 -4 -3 -2 -1         Reverse Index \n",
    "```\n",
    "\n",
    "Here `[:4]` means take the slice of position 0 to 3, as the interval is \"half open\" like \\[0,4) (0 or -1 is usually omitted in slicing). \n",
    "For the last example, it follows the pattern of `[start:stop:step]`, and `[::-1]` means take a step of `-1` (reverse)make a reverse copy for the entire string so you get the answer above."
   ]
  },
  {
   "cell_type": "markdown",
   "metadata": {},
   "source": [
    "It's important to remember strings are immutable object, which means, you can not modify the internal characters of a string. "
   ]
  },
  {
   "cell_type": "code",
   "execution_count": 34,
   "metadata": {},
   "outputs": [
    {
     "ename": "TypeError",
     "evalue": "'str' object does not support item assignment",
     "output_type": "error",
     "traceback": [
      "\u001b[1;31m---------------------------------------------------------------------------\u001b[0m",
      "\u001b[1;31mTypeError\u001b[0m                                 Traceback (most recent call last)",
      "\u001b[1;32m<ipython-input-34-f2653aa96cc1>\u001b[0m in \u001b[0;36m<module>\u001b[1;34m\u001b[0m\n\u001b[1;32m----> 1\u001b[1;33m \u001b[0mtopic\u001b[0m\u001b[1;33m[\u001b[0m\u001b[1;36m4\u001b[0m\u001b[1;33m]\u001b[0m \u001b[1;33m=\u001b[0m \u001b[1;34m'?'\u001b[0m\u001b[1;33m\u001b[0m\u001b[1;33m\u001b[0m\u001b[0m\n\u001b[0m",
      "\u001b[1;31mTypeError\u001b[0m: 'str' object does not support item assignment"
     ]
    }
   ],
   "source": [
    "topic[4] = '?'"
   ]
  },
  {
   "cell_type": "markdown",
   "metadata": {},
   "source": [
    "Above example shows python is not allowing to modify the character at position 4 and raised an `exception`. This is our first time seeing `exception` and `Traceback`, they are usually super helpful to debugging. Pay attention to the line number highlighted by `---->` and exception name `TypeError`.\n",
    "\n",
    "Though you cannot change part of the string, you can reconstruct the string and reassign the same name."
   ]
  },
  {
   "cell_type": "code",
   "execution_count": 35,
   "metadata": {},
   "outputs": [
    {
     "name": "stdout",
     "output_type": "stream",
     "text": [
      "Data?Science\n"
     ]
    }
   ],
   "source": [
    "topic = topic[:4] + '?' + topic[5:]\n",
    "print(topic)"
   ]
  },
  {
   "cell_type": "markdown",
   "metadata": {},
   "source": [
    "#### 2.4 String operations and methods"
   ]
  },
  {
   "cell_type": "markdown",
   "metadata": {},
   "source": [
    "As we have used them in `print` function, we know `+` and `*` operators work on strings similarly as they work on integers."
   ]
  },
  {
   "cell_type": "code",
   "execution_count": 36,
   "metadata": {},
   "outputs": [
    {
     "name": "stdout",
     "output_type": "stream",
     "text": [
      "Data?Scienceis cool!!!\n",
      "Data?Scienceis cool!!!Data?Scienceis cool!!!Data?Scienceis cool!!!Data?Scienceis cool!!!Data?Scienceis cool!!!\n"
     ]
    }
   ],
   "source": [
    "print(topic + 'is cool' + '!!!')\n",
    "print((topic + 'is cool' + '!!!')*5)"
   ]
  },
  {
   "cell_type": "markdown",
   "metadata": {},
   "source": [
    "You can also use comparison operators like `>` and `<`. It's based on alphabetical order. What are the answers for the following comparison? Run the code and see if you're right."
   ]
  },
  {
   "cell_type": "code",
   "execution_count": 37,
   "metadata": {},
   "outputs": [
    {
     "name": "stdout",
     "output_type": "stream",
     "text": [
      "True\n",
      "True\n",
      "False\n"
     ]
    }
   ],
   "source": [
    "print('aaa' < 'bbb')\n",
    "print('2' > '13')\n",
    "print(int('2') > int('13'))"
   ]
  },
  {
   "cell_type": "markdown",
   "metadata": {},
   "source": [
    "Note the second example is compared on alphabetical order, and since the first character of `2` comes after the first character of `13`, `2` is greater than `13` in string comparison.\n",
    "\n",
    "Though strings are not mutable, python has convenient methods you can use to modify the string some some simple manipulation. Below are some examples covering common ones, exlore [official documentation](https://docs.python.org/3/library/stdtypes.html#str) for more string methods."
   ]
  },
  {
   "cell_type": "code",
   "execution_count": 58,
   "metadata": {},
   "outputs": [
    {
     "name": "stdout",
     "output_type": "stream",
     "text": [
      "data science\n",
      "DATA SCIENCE\n",
      "Datais part of Science\n",
      "Data@@@Science\n",
      "D@a@t@a@ @S@c@i@e@n@c@e\n",
      "Data Science\n"
     ]
    }
   ],
   "source": [
    "topic=\"Data Science\"\n",
    "print(topic.lower())\n",
    "print(topic.upper())\n",
    "print(topic.replace(' ', 'is part of '))\n",
    "print('@@@'.join(topic.split(' ')))\n",
    "print('@'.join(topic))\n",
    "\n",
    "_topic_ = '____Data Science____'\n",
    "print(_topic_.strip('_'))"
   ]
  },
  {
   "cell_type": "code",
   "execution_count": 59,
   "metadata": {},
   "outputs": [
    {
     "name": "stdout",
     "output_type": "stream",
     "text": [
      "Python basic\n",
      "Python Basic\n",
      "8\n",
      "True\n",
      "False\n",
      "True\n",
      "True\n"
     ]
    }
   ],
   "source": [
    "Unit=\"python basic\"\n",
    "num=\"1234\"\n",
    "print(Unit.capitalize())\n",
    "print(Unit.title())\n",
    "print(Unit.find(\"a\"))\n",
    "print(num.isalnum())\n",
    "print(Unit.isalpha())\n",
    "print(Unit.replace(' ', '').isalpha())\n",
    "print('python' in Unit)"
   ]
  },
  {
   "cell_type": "markdown",
   "metadata": {},
   "source": [
    "#### 2.5 ***Advanced*** Regular Expression (Regex) using `re`\n",
    "\n",
    "Examples show `replace()` is very easy to use, but not very intellegent - not friendly to use for wildcards, \n",
    "or matching string on condition of other characters in the string, or some generalized string pattern. \n",
    "\n",
    "Python support advance string pattern match using [regular expression](https://en.wikipedia.org/wiki/Regular_expression). These are super useful if you are processing unstructured text data or log files. This is more advanced than the purpose of this course. Feel free to read [python regular expression official documentation](https://docs.python.org/3/library/re.html).\n",
    "\n",
    "If there is interest in learning this topic, we can have some examples in data exploration session later on.\n"
   ]
  },
  {
   "cell_type": "markdown",
   "metadata": {},
   "source": [
    "\n",
    "\n",
    "#### Exercise 2:\n",
    "1. Define a fraction number with numerator=123 and denominator=456, print out the fraction number in format `a/b` and the quotient with 8 digits after decimal point.\n",
    "\n",
    "Sample output: `\"123/456 = 0.269737\"`"
   ]
  },
  {
   "cell_type": "code",
   "execution_count": 60,
   "metadata": {},
   "outputs": [
    {
     "name": "stdout",
     "output_type": "stream",
     "text": [
      "0.26973684210526316\n"
     ]
    }
   ],
   "source": [
    "numerator =123\n",
    "denominagor =456\n",
    "\n",
    "# code up your solution below\n",
    "print(numerator/denominagor) "
   ]
  },
  {
   "cell_type": "markdown",
   "metadata": {},
   "source": [
    "2. Print out every other character of the string `\"Data Science\"` using string slicing. "
   ]
  },
  {
   "cell_type": "code",
   "execution_count": 64,
   "metadata": {},
   "outputs": [
    {
     "name": "stdout",
     "output_type": "stream",
     "text": [
      "Dt cec\n"
     ]
    }
   ],
   "source": [
    "# code up you solution here\n",
    "text=\"Data Science\"\n",
    "print(text[::2])"
   ]
  },
  {
   "cell_type": "markdown",
   "metadata": {},
   "source": [
    "3. The string `regex_wiki` contains the second paragraph of regular expression introduction in Wikipedia. Modify the string with all lower case and no space."
   ]
  },
  {
   "cell_type": "code",
   "execution_count": 66,
   "metadata": {},
   "outputs": [
    {
     "name": "stdout",
     "output_type": "stream",
     "text": [
      "theconceptaroseinthe1950swhentheamericanmathematicianstephencolekleeneformalized\n",
      "thedescriptionofaregularlanguage.theconceptcameintocommonusewithunixtext-processingutilities.\n",
      "differentsyntaxesforwritingregularexpressionshaveexistedsincethe1980s,onebeingtheposixstandard\n",
      "andanother,widelyused,beingtheperlsyntax.\n"
     ]
    }
   ],
   "source": [
    "regex_wiki = \"\"\"The concept arose in the 1950s when the American mathematician Stephen Cole Kleene formalized \n",
    "the description of a regular language. The concept came into common use with Unix text-processing utilities. \n",
    "Different syntaxes for writing regular expressions have existed since the 1980s, one being the POSIX standard \n",
    "and another, widely used, being the Perl syntax.\"\"\"\n",
    "\n",
    "# code up your solution below and print to check answer\n",
    "regex_wiki=regex_wiki.lower()\n",
    "regex_wiki=regex_wiki.replace(' ', '')\n",
    "print(regex_wiki)"
   ]
  },
  {
   "cell_type": "markdown",
   "metadata": {},
   "source": [
    "4. Replace all `data` with `<3` in the following string. Use a string method to check `data` is not in the new string."
   ]
  },
  {
   "cell_type": "code",
   "execution_count": 67,
   "metadata": {},
   "outputs": [
    {
     "name": "stdout",
     "output_type": "stream",
     "text": [
      "False\n"
     ]
    }
   ],
   "source": [
    "data_science = \"\"\"Data science continues to evolve as one of the most promising and in-demand career paths for \n",
    "skilled professionals. Today, successful data professionals understand that they must advance past the traditional \n",
    "skills of analyzing large amounts of data, data mining, and programming skills. In order to uncover useful \n",
    "intelligence for their organizations, data scientists must master the full spectrum of the data science life cycle \n",
    "and possess a level of flexibility and understanding to maximize returns at each phase of the process.\"\"\"\n",
    "\n",
    "# code up your solution below\n",
    "data_science=data_science.replace(\"data\", \"<3\")\n",
    "print('data' in data_science)"
   ]
  },
  {
   "cell_type": "markdown",
   "metadata": {},
   "source": [
    "### 3. Value comparison and conditions\n",
    "#### 3.1 Boolean and comparison"
   ]
  },
  {
   "cell_type": "markdown",
   "metadata": {},
   "source": [
    "In earlier session, booleans are showed as one of basic python variable types. Booleans are the simplest type in python with only two values: `True` and `False`"
   ]
  },
  {
   "cell_type": "code",
   "execution_count": 68,
   "metadata": {},
   "outputs": [],
   "source": [
    "# notice these are case sensitive\n",
    "ture=False\n",
    "false=True"
   ]
  },
  {
   "cell_type": "markdown",
   "metadata": {},
   "source": [
    "Note: define boolean, the first character of the two values must be capitalized. Try below boolean asignment to get an idea"
   ]
  },
  {
   "cell_type": "code",
   "execution_count": 69,
   "metadata": {},
   "outputs": [
    {
     "name": "stdout",
     "output_type": "stream",
     "text": [
      "False\n",
      "True\n"
     ]
    }
   ],
   "source": [
    "print(False)\n",
    "print(false)"
   ]
  },
  {
   "cell_type": "markdown",
   "metadata": {},
   "source": [
    "Almost every thing in python is mapped to a boolean value, even if it's not boolean type. This could be checked using `bool()` function. Empty strings, zero, and empty collection (we'll cover later) will have `False` value."
   ]
  },
  {
   "cell_type": "code",
   "execution_count": 70,
   "metadata": {},
   "outputs": [
    {
     "name": "stdout",
     "output_type": "stream",
     "text": [
      "True\n",
      "True\n",
      "False\n",
      "False\n"
     ]
    }
   ],
   "source": [
    "print(bool(\"data\"))\n",
    "print(bool(123))\n",
    "print(bool(\"\"))\n",
    "print(bool(0))"
   ]
  },
  {
   "cell_type": "markdown",
   "metadata": {},
   "source": [
    "Boolean is such an essential data type for programming due to its comparision functionality"
   ]
  },
  {
   "cell_type": "code",
   "execution_count": 71,
   "metadata": {},
   "outputs": [
    {
     "data": {
      "text/plain": [
       "True"
      ]
     },
     "execution_count": 71,
     "metadata": {},
     "output_type": "execute_result"
    }
   ],
   "source": [
    "3 < 4 "
   ]
  },
  {
   "cell_type": "code",
   "execution_count": 72,
   "metadata": {},
   "outputs": [
    {
     "name": "stdout",
     "output_type": "stream",
     "text": [
      "True\n"
     ]
    }
   ],
   "source": [
    "bool1 = 3<4\n",
    "print(bool1)"
   ]
  },
  {
   "cell_type": "code",
   "execution_count": 73,
   "metadata": {},
   "outputs": [
    {
     "data": {
      "text/plain": [
       "False"
      ]
     },
     "execution_count": 73,
     "metadata": {},
     "output_type": "execute_result"
    }
   ],
   "source": [
    "5 > 13"
   ]
  },
  {
   "cell_type": "code",
   "execution_count": 74,
   "metadata": {},
   "outputs": [
    {
     "name": "stdout",
     "output_type": "stream",
     "text": [
      "False\n"
     ]
    }
   ],
   "source": [
    "bool2 = 5 > 13\n",
    "print(bool2)"
   ]
  },
  {
   "cell_type": "code",
   "execution_count": 75,
   "metadata": {},
   "outputs": [
    {
     "name": "stdout",
     "output_type": "stream",
     "text": [
      "True\n",
      "True\n",
      "True\n"
     ]
    }
   ],
   "source": [
    "print(\"data\" == \"data\")\n",
    "print(\"data\" == \"DATA\".lower())\n",
    "print(\"data\" != \"science\")"
   ]
  },
  {
   "cell_type": "markdown",
   "metadata": {},
   "source": [
    "#### 3.2 Logical Operators\n",
    "Booleans work with logical operators can make comparision among multiple items, or check if several condition are all met or only one/few met. Python has three logical operators: `and`, `or`, and `not`."
   ]
  },
  {
   "cell_type": "code",
   "execution_count": 76,
   "metadata": {},
   "outputs": [
    {
     "data": {
      "text/plain": [
       "False"
      ]
     },
     "execution_count": 76,
     "metadata": {},
     "output_type": "execute_result"
    }
   ],
   "source": [
    "a=2\n",
    "b=4\n",
    "c=7 \n",
    "d=17\n",
    "\n",
    "a<b and a>c"
   ]
  },
  {
   "cell_type": "code",
   "execution_count": 77,
   "metadata": {},
   "outputs": [
    {
     "data": {
      "text/plain": [
       "True"
      ]
     },
     "execution_count": 77,
     "metadata": {},
     "output_type": "execute_result"
    }
   ],
   "source": [
    "b>a and b<c"
   ]
  },
  {
   "cell_type": "code",
   "execution_count": 78,
   "metadata": {},
   "outputs": [
    {
     "data": {
      "text/plain": [
       "True"
      ]
     },
     "execution_count": 78,
     "metadata": {},
     "output_type": "execute_result"
    }
   ],
   "source": [
    "a<b or a>c"
   ]
  },
  {
   "cell_type": "code",
   "execution_count": 79,
   "metadata": {},
   "outputs": [
    {
     "data": {
      "text/plain": [
       "True"
      ]
     },
     "execution_count": 79,
     "metadata": {},
     "output_type": "execute_result"
    }
   ],
   "source": [
    "not b<a"
   ]
  },
  {
   "cell_type": "markdown",
   "metadata": {},
   "source": [
    "#### 3.3 Conditions and program control"
   ]
  },
  {
   "cell_type": "markdown",
   "metadata": {},
   "source": [
    "#### `If` statement, `elif` and `else`\n",
    "\n",
    "Boolen are used to control the program flow based on values of variables. \n",
    "\n",
    "The code within indentation after `if [condition]:` will only be executed if the `[condition]` is `True`. Otherwise the block will be skipped."
   ]
  },
  {
   "cell_type": "code",
   "execution_count": 80,
   "metadata": {},
   "outputs": [
    {
     "name": "stdout",
     "output_type": "stream",
     "text": [
      "this is logically correct.\n"
     ]
    }
   ],
   "source": [
    "if 2 > 1:\n",
    "    print(\"this is logically correct.\")"
   ]
  },
  {
   "cell_type": "code",
   "execution_count": 81,
   "metadata": {},
   "outputs": [],
   "source": [
    "if 1 > 2:\n",
    "    print(\"this is wrong.\")"
   ]
  },
  {
   "cell_type": "markdown",
   "metadata": {},
   "source": [
    "Evaluate the given condition expression --> if evaluates to `True`, move into indented code block --> if evaluates to `False`, skip indented code block.\n",
    "\n",
    "Of course we usually want a bit more sophisticated control than one comparison even if condition is `False`, that's when `elif` and `else` help us handle the other scenarios. We can make thing a bit more complex now."
   ]
  },
  {
   "cell_type": "code",
   "execution_count": 82,
   "metadata": {},
   "outputs": [
    {
     "name": "stdout",
     "output_type": "stream",
     "text": [
      "i've got some data\n"
     ]
    }
   ],
   "source": [
    "string = \"data science is fun\"\n",
    "\n",
    "if \"data\" in string:\n",
    "    print(\"i've got some data\")\n",
    "elif \"fun\" in string:\n",
    "    print(\"i've got some fun\")\n",
    "else:\n",
    "    print(\"no data and no fun :(\")"
   ]
  },
  {
   "cell_type": "markdown",
   "metadata": {},
   "source": [
    "Notice the order you write the condition are important as it will affect the result. If the previous `if` condition is met, the code won't check `elif` and `else`. For example with the same input and condition, order changed, the output is different. There are usually ways to optimize for correctness and efficiency.\n",
    "\n",
    "If you are not familiar with `if-elif-else` statements, feel free to read more about it [here](http://anh.cs.luc.edu/handsonPythonTutorial/ifstatements.html#multiple-tests-and-if-elif-statements)"
   ]
  },
  {
   "cell_type": "code",
   "execution_count": 83,
   "metadata": {},
   "outputs": [
    {
     "name": "stdout",
     "output_type": "stream",
     "text": [
      "i've got some fun\n"
     ]
    }
   ],
   "source": [
    "string = \"data science is fun\"\n",
    "\n",
    "if \"fun\" in string:\n",
    "    print(\"i've got some fun\")\n",
    "elif \"data\" in string:\n",
    "    print(\"i've got some data\")\n",
    "else:\n",
    "    print(\"no data and no fun :(\")"
   ]
  },
  {
   "cell_type": "markdown",
   "metadata": {},
   "source": [
    "Of couse you can use boolen operations here in the conditions to check multiple things."
   ]
  },
  {
   "cell_type": "code",
   "execution_count": 84,
   "metadata": {},
   "outputs": [
    {
     "name": "stdout",
     "output_type": "stream",
     "text": [
      "DATA SCIENCE IS FUN!\n"
     ]
    }
   ],
   "source": [
    "string = \"data science is fun\"\n",
    "\n",
    "if \"fun\" in string and \"data\" in string:\n",
    "    print(\"DATA SCIENCE IS FUN!\")\n",
    "elif \"fun\" in string: \n",
    "    print(\"i've got some fun\")\n",
    "elif \"data\" in string:\n",
    "    print(\"i've got some data\")\n",
    "else:\n",
    "    print(\"no data and no fun :(\")"
   ]
  },
  {
   "cell_type": "markdown",
   "metadata": {},
   "source": [
    "What if I don't want to anything when a condition is met? Leaving it blank will throw an exception like shown below. Luckily there is an useful `pass` statement in python, which serves as a place holder ofr empty python block."
   ]
  },
  {
   "cell_type": "code",
   "execution_count": 85,
   "metadata": {},
   "outputs": [
    {
     "ename": "SyntaxError",
     "evalue": "unexpected EOF while parsing (<ipython-input-85-61ca32b8b9f6>, line 1)",
     "output_type": "error",
     "traceback": [
      "\u001b[1;36m  File \u001b[1;32m\"<ipython-input-85-61ca32b8b9f6>\"\u001b[1;36m, line \u001b[1;32m1\u001b[0m\n\u001b[1;33m    if \"science\" in string:\u001b[0m\n\u001b[1;37m                           ^\u001b[0m\n\u001b[1;31mSyntaxError\u001b[0m\u001b[1;31m:\u001b[0m unexpected EOF while parsing\n"
     ]
    }
   ],
   "source": [
    "if \"science\" in string:"
   ]
  },
  {
   "cell_type": "code",
   "execution_count": 86,
   "metadata": {},
   "outputs": [],
   "source": [
    "if \"science\" in string:\n",
    "    pass"
   ]
  },
  {
   "cell_type": "markdown",
   "metadata": {},
   "source": [
    "#### Exercise 3."
   ]
  },
  {
   "cell_type": "markdown",
   "metadata": {},
   "source": [
    "1. Write a program flow which will assign `grade` by the test scores using the following conditions:\n",
    "\n",
    "    1. If score >= 90, grade=\"A\"\n",
    "    2. If 80 >= score >90, grade=\"B\"\n",
    "    3. If 70 >= score >80, grade=\"C\"\n",
    "    4. If 60 >= score >70, grade=\"D\"\n",
    "    5. IF score < 60, grade=\"F\""
   ]
  },
  {
   "cell_type": "code",
   "execution_count": 87,
   "metadata": {},
   "outputs": [
    {
     "data": {
      "text/plain": [
       "'B'"
      ]
     },
     "execution_count": 87,
     "metadata": {},
     "output_type": "execute_result"
    }
   ],
   "source": [
    "# code up your solution here\n",
    "def grading(score):\n",
    "    if score>=90:\n",
    "        grade=\"A\"\n",
    "    if score>=80 & score <90:\n",
    "        grade=\"B\"\n",
    "    if score >=70 and score<80:\n",
    "        grade=\"C\"\n",
    "    if score >=60 and score <70:\n",
    "        grade=\"D\"\n",
    "    if score <60:\n",
    "        grade=\"F\"\n",
    "    return (grade)\n",
    "\n",
    "grading(85)\n"
   ]
  },
  {
   "cell_type": "markdown",
   "metadata": {},
   "source": [
    "2. x=1, y=1, write a flow to assign messge to different value base on different criteria as below, and in the end print out the message:\n",
    "\n",
    "    a. If x less than y, messge=\"x is less than y\"\n",
    "    \n",
    "    b. If x larger than y, messge=\"x is greater than y\"\n",
    "    \n",
    "    c. If x equal to y, messge=\"x is the same as y\"\n"
   ]
  },
  {
   "cell_type": "code",
   "execution_count": null,
   "metadata": {},
   "outputs": [],
   "source": [
    "# code up your solution here\n",
    "\n"
   ]
  }
 ],
 "metadata": {
  "kernelspec": {
   "display_name": "Python 3",
   "language": "python",
   "name": "python3"
  },
  "language_info": {
   "codemirror_mode": {
    "name": "ipython",
    "version": 3
   },
   "file_extension": ".py",
   "mimetype": "text/x-python",
   "name": "python",
   "nbconvert_exporter": "python",
   "pygments_lexer": "ipython3",
   "version": "3.7.4"
  }
 },
 "nbformat": 4,
 "nbformat_minor": 2
}
